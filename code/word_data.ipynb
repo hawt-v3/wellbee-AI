{
  "nbformat": 4,
  "nbformat_minor": 0,
  "metadata": {
    "colab": {
      "name": "more_data.ipynb",
      "provenance": []
    },
    "kernelspec": {
      "name": "python3",
      "display_name": "Python 3"
    },
    "language_info": {
      "name": "python"
    }
  },
  "cells": [
    {
      "cell_type": "code",
      "metadata": {
        "id": "wfeGazu89QeJ"
      },
      "source": [
        "import pandas as pd\n",
        "import csv"
      ],
      "execution_count": 17,
      "outputs": []
    },
    {
      "cell_type": "code",
      "metadata": {
        "id": "krVn1gp_Tm-K"
      },
      "source": [
        "df = pd.read_csv(\"data.csv\")"
      ],
      "execution_count": 19,
      "outputs": []
    },
    {
      "cell_type": "code",
      "metadata": {
        "id": "3sHGo-7tSXur"
      },
      "source": [
        "words = []\n",
        "class_names = []\n",
        "with open(\"positive.txt\", \"r\")as f:\n",
        "  for line in f:\n",
        "    line = line.strip()\n",
        "    i = 1\n",
        "    words.append(line)\n",
        "    class_names.append(i)\n",
        "  \n",
        "with open(\"negative.txt\", \"r\")as f:\n",
        "  for line in f:\n",
        "    line = line.strip()\n",
        "    i = 0\n",
        "    words.append(line)\n",
        "    class_names.append(i)\n",
        "\n",
        "df = pd.DataFrame({\"class_names\" : class_names, \"sentences\" : words})\n",
        "  \n",
        "df.to_csv(\"data2.csv\", index=False)"
      ],
      "execution_count": 23,
      "outputs": []
    }
  ]
}